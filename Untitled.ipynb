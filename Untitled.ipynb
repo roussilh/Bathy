{
 "cells": [
  {
   "cell_type": "code",
   "execution_count": 2,
   "id": "d50fc0cf",
   "metadata": {},
   "outputs": [],
   "source": [
    "import xarray as xr\n",
    "from matplotlib import pyplot as plt\n",
    "import matplotlib.cm as cm\n",
    "import matplotlib.ticker as mticker\n",
    "import cartopy.crs as ccrs\n",
    "import cartopy.feature as cfeature\n",
    "from cartopy.mpl.gridliner import LONGITUDE_FORMATTER, LATITUDE_FORMATTER\n",
    "import numpy.ma as ma\n",
    "import numpy as np\n",
    "import cmocean\n",
    "\n",
    "%matplotlib inline"
   ]
  },
  {
   "cell_type": "code",
   "execution_count": 3,
   "id": "68e3fcc9",
   "metadata": {},
   "outputs": [],
   "source": [
    "multi_dataDIR = '/bettik/roussilh/noMED-degrad/eNATL60noMED-BLBT02_y2009m08*U*.nc'\n",
    "TAS2 = xr.open_mfdataset(multi_dataDIR)\n",
    "TAS2\n",
    "umean = TAS2.degraded_vozocrtx.mean(dim='time_counter')\n",
    "vit1 = TAS2.degraded_vozocrtx.mean(dim='time_counter')\n",
    "navlon = TAS2.nav_lon\n",
    "navlat = TAS2.nav_lat\n",
    "vit_mask=ma.masked_where(vit1==0.,vit1)\n",
    "lat = navlat.sel(time_counter='2009-08-01T00:30:00.000000000')\n",
    "lon = navlon.sel(time_counter='2009-08-01T00:30:00.000000000')"
   ]
  },
  {
   "cell_type": "code",
   "execution_count": 5,
   "id": "8db0413a",
   "metadata": {},
   "outputs": [],
   "source": [
    "multi_dataDIR = '/bettik/roussilh/noMED-degrad/eNATL60noMED-BLBT02_y2009m09*U*.nc'\n",
    "TAS3 = xr.open_mfdataset(multi_dataDIR)\n",
    "TAS3\n",
    "umean = TAS3.degraded_vozocrtx.mean(dim='time_counter')\n",
    "vit3 = TAS3.degraded_vozocrtx.mean(dim='time_counter')\n",
    "navlon1 = TAS3.nav_lon\n",
    "navlat1 = TAS3.nav_lat\n",
    "vit_mask1=ma.masked_where(vit3==0.,vit3)\n",
    "lat1 = navlat1.sel(time_counter='2009-09-01T00:30:00.000000000')\n",
    "lon1 = navlon1.sel(time_counter='2009-09-01T00:30:00.000000000')"
   ]
  },
  {
   "cell_type": "code",
   "execution_count": 7,
   "id": "711c924f",
   "metadata": {},
   "outputs": [
    {
     "name": "stderr",
     "output_type": "stream",
     "text": [
      "/home/roussilh/miniconda3/envs/jupyter/lib/python3.8/site-packages/cartopy/mpl/geoaxes.py:1597: UserWarning: The input coordinates to pcolormesh are interpreted as cell centers, but are not monotonically increasing or decreasing. This may lead to incorrectly calculated cell edges, in which case, please supply explicit cell edges to pcolormesh.\n",
      "  X, Y, C, shading = self._pcolorargs('pcolormesh', *args,\n"
     ]
    },
    {
     "ename": "AttributeError",
     "evalue": "'NoneType' object has no attribute 'spines'",
     "output_type": "error",
     "traceback": [
      "\u001b[0;31m---------------------------------------------------------------------------\u001b[0m",
      "\u001b[0;31mAttributeError\u001b[0m                            Traceback (most recent call last)",
      "Input \u001b[0;32mIn [7]\u001b[0m, in \u001b[0;36m<cell line: 11>\u001b[0;34m()\u001b[0m\n\u001b[1;32m      8\u001b[0m figSep\u001b[38;5;241m=\u001b[39mplt\u001b[38;5;241m.\u001b[39mfigure(figsize\u001b[38;5;241m=\u001b[39m(\u001b[38;5;241m12\u001b[39m,\u001b[38;5;241m10\u001b[39m))\n\u001b[1;32m     10\u001b[0m ax1 \u001b[38;5;241m=\u001b[39m plt\u001b[38;5;241m.\u001b[39maxes(projection\u001b[38;5;241m=\u001b[39mccrs\u001b[38;5;241m.\u001b[39mPlateCarree())\n\u001b[0;32m---> 11\u001b[0m pcolor1\u001b[38;5;241m=\u001b[39m\u001b[43max\u001b[49m\u001b[38;5;241;43m.\u001b[39;49m\u001b[43mpcolormesh\u001b[49m\u001b[43m(\u001b[49m\u001b[43mlon1\u001b[49m\u001b[43m,\u001b[49m\u001b[43mlat1\u001b[49m\u001b[43m,\u001b[49m\u001b[43mvit_mask1\u001b[49m\u001b[43m,\u001b[49m\u001b[43mtransform\u001b[49m\u001b[38;5;241;43m=\u001b[39;49m\u001b[43mccrs\u001b[49m\u001b[38;5;241;43m.\u001b[39;49m\u001b[43mPlateCarree\u001b[49m\u001b[43m(\u001b[49m\u001b[43m)\u001b[49m\u001b[43m,\u001b[49m\u001b[43mcmap\u001b[49m\u001b[38;5;241;43m=\u001b[39;49m\u001b[43mcmocean\u001b[49m\u001b[38;5;241;43m.\u001b[39;49m\u001b[43mcm\u001b[49m\u001b[38;5;241;43m.\u001b[39;49m\u001b[43mbalance\u001b[49m\u001b[43m,\u001b[49m\u001b[43mvmin\u001b[49m\u001b[38;5;241;43m=\u001b[39;49m\u001b[38;5;241;43m-\u001b[39;49m\u001b[38;5;241;43m1\u001b[39;49m\u001b[43m,\u001b[49m\u001b[43mvmax\u001b[49m\u001b[38;5;241;43m=\u001b[39;49m\u001b[38;5;241;43m1\u001b[39;49m\u001b[43m)\u001b[49m\n\u001b[1;32m     13\u001b[0m grid_lines \u001b[38;5;241m=\u001b[39m ax\u001b[38;5;241m.\u001b[39mgridlines(draw_labels\u001b[38;5;241m=\u001b[39m\u001b[38;5;28;01mTrue\u001b[39;00m)\n\u001b[1;32m     14\u001b[0m grid_lines\u001b[38;5;241m.\u001b[39mxformatter \u001b[38;5;241m=\u001b[39m LONGITUDE_FORMATTER\n",
      "File \u001b[0;32m~/miniconda3/envs/jupyter/lib/python3.8/site-packages/cartopy/mpl/geoaxes.py:310\u001b[0m, in \u001b[0;36m_add_transform.<locals>.wrapper\u001b[0;34m(self, *args, **kwargs)\u001b[0m\n\u001b[1;32m    305\u001b[0m     \u001b[38;5;28;01mraise\u001b[39;00m \u001b[38;5;167;01mValueError\u001b[39;00m(\u001b[38;5;124m'\u001b[39m\u001b[38;5;124mInvalid transform: Spherical \u001b[39m\u001b[38;5;132;01m{}\u001b[39;00m\u001b[38;5;124m \u001b[39m\u001b[38;5;124m'\u001b[39m\n\u001b[1;32m    306\u001b[0m                      \u001b[38;5;124m'\u001b[39m\u001b[38;5;124mis not supported - consider using \u001b[39m\u001b[38;5;124m'\u001b[39m\n\u001b[1;32m    307\u001b[0m                      \u001b[38;5;124m'\u001b[39m\u001b[38;5;124mPlateCarree/RotatedPole.\u001b[39m\u001b[38;5;124m'\u001b[39m\u001b[38;5;241m.\u001b[39mformat(func\u001b[38;5;241m.\u001b[39m\u001b[38;5;18m__name__\u001b[39m))\n\u001b[1;32m    309\u001b[0m kwargs[\u001b[38;5;124m'\u001b[39m\u001b[38;5;124mtransform\u001b[39m\u001b[38;5;124m'\u001b[39m] \u001b[38;5;241m=\u001b[39m transform\n\u001b[0;32m--> 310\u001b[0m \u001b[38;5;28;01mreturn\u001b[39;00m \u001b[43mfunc\u001b[49m\u001b[43m(\u001b[49m\u001b[38;5;28;43mself\u001b[39;49m\u001b[43m,\u001b[49m\u001b[43m \u001b[49m\u001b[38;5;241;43m*\u001b[39;49m\u001b[43margs\u001b[49m\u001b[43m,\u001b[49m\u001b[43m \u001b[49m\u001b[38;5;241;43m*\u001b[39;49m\u001b[38;5;241;43m*\u001b[39;49m\u001b[43mkwargs\u001b[49m\u001b[43m)\u001b[49m\n",
      "File \u001b[0;32m~/miniconda3/envs/jupyter/lib/python3.8/site-packages/cartopy/mpl/geoaxes.py:1561\u001b[0m, in \u001b[0;36mGeoAxes.pcolormesh\u001b[0;34m(self, *args, **kwargs)\u001b[0m\n\u001b[1;32m   1550\u001b[0m \u001b[38;5;129m@_add_transform\u001b[39m\n\u001b[1;32m   1551\u001b[0m \u001b[38;5;28;01mdef\u001b[39;00m \u001b[38;5;21mpcolormesh\u001b[39m(\u001b[38;5;28mself\u001b[39m, \u001b[38;5;241m*\u001b[39margs, \u001b[38;5;241m*\u001b[39m\u001b[38;5;241m*\u001b[39mkwargs):\n\u001b[1;32m   1552\u001b[0m     \u001b[38;5;124;03m\"\"\"\u001b[39;00m\n\u001b[1;32m   1553\u001b[0m \u001b[38;5;124;03m    Add the \"transform\" keyword to :func:`~matplotlib.pyplot.pcolormesh'.\u001b[39;00m\n\u001b[1;32m   1554\u001b[0m \n\u001b[0;32m   (...)\u001b[0m\n\u001b[1;32m   1559\u001b[0m \n\u001b[1;32m   1560\u001b[0m \u001b[38;5;124;03m    \"\"\"\u001b[39;00m\n\u001b[0;32m-> 1561\u001b[0m     result \u001b[38;5;241m=\u001b[39m \u001b[38;5;28;43mself\u001b[39;49m\u001b[38;5;241;43m.\u001b[39;49m\u001b[43m_pcolormesh_patched\u001b[49m\u001b[43m(\u001b[49m\u001b[38;5;241;43m*\u001b[39;49m\u001b[43margs\u001b[49m\u001b[43m,\u001b[49m\u001b[43m \u001b[49m\u001b[38;5;241;43m*\u001b[39;49m\u001b[38;5;241;43m*\u001b[39;49m\u001b[43mkwargs\u001b[49m\u001b[43m)\u001b[49m\n\u001b[1;32m   1562\u001b[0m     \u001b[38;5;28mself\u001b[39m\u001b[38;5;241m.\u001b[39mautoscale_view()\n\u001b[1;32m   1563\u001b[0m     \u001b[38;5;28;01mreturn\u001b[39;00m result\n",
      "File \u001b[0;32m~/miniconda3/envs/jupyter/lib/python3.8/site-packages/cartopy/mpl/geoaxes.py:1659\u001b[0m, in \u001b[0;36mGeoAxes._pcolormesh_patched\u001b[0;34m(self, *args, **kwargs)\u001b[0m\n\u001b[1;32m   1657\u001b[0m \u001b[38;5;28mself\u001b[39m\u001b[38;5;241m.\u001b[39mupdate_datalim(corners)\n\u001b[1;32m   1658\u001b[0m \u001b[38;5;28mself\u001b[39m\u001b[38;5;241m.\u001b[39madd_collection(collection)\n\u001b[0;32m-> 1659\u001b[0m \u001b[38;5;28;43mself\u001b[39;49m\u001b[38;5;241;43m.\u001b[39;49m\u001b[43mautoscale_view\u001b[49m\u001b[43m(\u001b[49m\u001b[43m)\u001b[49m\n\u001b[1;32m   1661\u001b[0m \u001b[38;5;66;03m########################\u001b[39;00m\n\u001b[1;32m   1662\u001b[0m \u001b[38;5;66;03m# PATCH\u001b[39;00m\n\u001b[1;32m   1663\u001b[0m \u001b[38;5;66;03m# XXX Non-standard matplotlib thing.\u001b[39;00m\n\u001b[1;32m   1664\u001b[0m \u001b[38;5;66;03m# Handle a possible wrap around for rectangular projections.\u001b[39;00m\n\u001b[1;32m   1665\u001b[0m t \u001b[38;5;241m=\u001b[39m kwargs\u001b[38;5;241m.\u001b[39mget(\u001b[38;5;124m'\u001b[39m\u001b[38;5;124mtransform\u001b[39m\u001b[38;5;124m'\u001b[39m, \u001b[38;5;28;01mNone\u001b[39;00m)\n",
      "File \u001b[0;32m~/miniconda3/envs/jupyter/lib/python3.8/site-packages/cartopy/mpl/geoaxes.py:854\u001b[0m, in \u001b[0;36mGeoAxes.autoscale_view\u001b[0;34m(self, tight, scalex, scaley)\u001b[0m\n\u001b[1;32m    853\u001b[0m \u001b[38;5;28;01mdef\u001b[39;00m \u001b[38;5;21mautoscale_view\u001b[39m(\u001b[38;5;28mself\u001b[39m, tight\u001b[38;5;241m=\u001b[39m\u001b[38;5;28;01mNone\u001b[39;00m, scalex\u001b[38;5;241m=\u001b[39m\u001b[38;5;28;01mTrue\u001b[39;00m, scaley\u001b[38;5;241m=\u001b[39m\u001b[38;5;28;01mTrue\u001b[39;00m):\n\u001b[0;32m--> 854\u001b[0m     \u001b[43mmatplotlib\u001b[49m\u001b[38;5;241;43m.\u001b[39;49m\u001b[43maxes\u001b[49m\u001b[38;5;241;43m.\u001b[39;49m\u001b[43mAxes\u001b[49m\u001b[38;5;241;43m.\u001b[39;49m\u001b[43mautoscale_view\u001b[49m\u001b[43m(\u001b[49m\u001b[38;5;28;43mself\u001b[39;49m\u001b[43m,\u001b[49m\u001b[43m \u001b[49m\u001b[43mtight\u001b[49m\u001b[38;5;241;43m=\u001b[39;49m\u001b[43mtight\u001b[49m\u001b[43m,\u001b[49m\n\u001b[1;32m    855\u001b[0m \u001b[43m                                        \u001b[49m\u001b[43mscalex\u001b[49m\u001b[38;5;241;43m=\u001b[39;49m\u001b[43mscalex\u001b[49m\u001b[43m,\u001b[49m\u001b[43m \u001b[49m\u001b[43mscaley\u001b[49m\u001b[38;5;241;43m=\u001b[39;49m\u001b[43mscaley\u001b[49m\u001b[43m)\u001b[49m\n\u001b[1;32m    856\u001b[0m     \u001b[38;5;66;03m# Limit the resulting bounds to valid area.\u001b[39;00m\n\u001b[1;32m    857\u001b[0m     \u001b[38;5;28;01mif\u001b[39;00m scalex \u001b[38;5;129;01mand\u001b[39;00m \u001b[38;5;28mself\u001b[39m\u001b[38;5;241m.\u001b[39m_autoscaleXon:\n",
      "File \u001b[0;32m~/miniconda3/envs/jupyter/lib/python3.8/site-packages/matplotlib/axes/_base.py:2932\u001b[0m, in \u001b[0;36m_AxesBase.autoscale_view\u001b[0;34m(self, tight, scalex, scaley)\u001b[0m\n\u001b[1;32m   2929\u001b[0m     set_bound(x0, x1)\n\u001b[1;32m   2930\u001b[0m     \u001b[38;5;66;03m# End of definition of internal function 'handle_single_axis'.\u001b[39;00m\n\u001b[0;32m-> 2932\u001b[0m \u001b[43mhandle_single_axis\u001b[49m\u001b[43m(\u001b[49m\n\u001b[1;32m   2933\u001b[0m \u001b[43m    \u001b[49m\u001b[43mscalex\u001b[49m\u001b[43m,\u001b[49m\u001b[43m \u001b[49m\u001b[38;5;28;43mself\u001b[39;49m\u001b[38;5;241;43m.\u001b[39;49m\u001b[43m_autoscaleXon\u001b[49m\u001b[43m,\u001b[49m\u001b[43m \u001b[49m\u001b[38;5;28;43mself\u001b[39;49m\u001b[38;5;241;43m.\u001b[39;49m\u001b[43m_shared_axes\u001b[49m\u001b[43m[\u001b[49m\u001b[38;5;124;43m\"\u001b[39;49m\u001b[38;5;124;43mx\u001b[39;49m\u001b[38;5;124;43m\"\u001b[39;49m\u001b[43m]\u001b[49m\u001b[43m,\u001b[49m\u001b[43m \u001b[49m\u001b[38;5;124;43m'\u001b[39;49m\u001b[38;5;124;43mx\u001b[39;49m\u001b[38;5;124;43m'\u001b[39;49m\u001b[43m,\u001b[49m\n\u001b[1;32m   2934\u001b[0m \u001b[43m    \u001b[49m\u001b[38;5;28;43mself\u001b[39;49m\u001b[38;5;241;43m.\u001b[39;49m\u001b[43mxaxis\u001b[49m\u001b[43m,\u001b[49m\u001b[43m \u001b[49m\u001b[38;5;28;43mself\u001b[39;49m\u001b[38;5;241;43m.\u001b[39;49m\u001b[43m_xmargin\u001b[49m\u001b[43m,\u001b[49m\u001b[43m \u001b[49m\u001b[43mx_stickies\u001b[49m\u001b[43m,\u001b[49m\u001b[43m \u001b[49m\u001b[38;5;28;43mself\u001b[39;49m\u001b[38;5;241;43m.\u001b[39;49m\u001b[43mset_xbound\u001b[49m\u001b[43m)\u001b[49m\n\u001b[1;32m   2935\u001b[0m handle_single_axis(\n\u001b[1;32m   2936\u001b[0m     scaley, \u001b[38;5;28mself\u001b[39m\u001b[38;5;241m.\u001b[39m_autoscaleYon, \u001b[38;5;28mself\u001b[39m\u001b[38;5;241m.\u001b[39m_shared_axes[\u001b[38;5;124m\"\u001b[39m\u001b[38;5;124my\u001b[39m\u001b[38;5;124m\"\u001b[39m], \u001b[38;5;124m'\u001b[39m\u001b[38;5;124my\u001b[39m\u001b[38;5;124m'\u001b[39m,\n\u001b[1;32m   2937\u001b[0m     \u001b[38;5;28mself\u001b[39m\u001b[38;5;241m.\u001b[39myaxis, \u001b[38;5;28mself\u001b[39m\u001b[38;5;241m.\u001b[39m_ymargin, y_stickies, \u001b[38;5;28mself\u001b[39m\u001b[38;5;241m.\u001b[39mset_ybound)\n",
      "File \u001b[0;32m~/miniconda3/envs/jupyter/lib/python3.8/site-packages/matplotlib/axes/_base.py:2929\u001b[0m, in \u001b[0;36m_AxesBase.autoscale_view.<locals>.handle_single_axis\u001b[0;34m(scale, autoscaleon, shared_axes, name, axis, margin, stickies, set_bound)\u001b[0m\n\u001b[1;32m   2927\u001b[0m \u001b[38;5;28;01mif\u001b[39;00m \u001b[38;5;129;01mnot\u001b[39;00m \u001b[38;5;28mself\u001b[39m\u001b[38;5;241m.\u001b[39m_tight:\n\u001b[1;32m   2928\u001b[0m     x0, x1 \u001b[38;5;241m=\u001b[39m locator\u001b[38;5;241m.\u001b[39mview_limits(x0, x1)\n\u001b[0;32m-> 2929\u001b[0m \u001b[43mset_bound\u001b[49m\u001b[43m(\u001b[49m\u001b[43mx0\u001b[49m\u001b[43m,\u001b[49m\u001b[43m \u001b[49m\u001b[43mx1\u001b[49m\u001b[43m)\u001b[49m\n",
      "File \u001b[0;32m~/miniconda3/envs/jupyter/lib/python3.8/site-packages/matplotlib/axes/_base.py:3564\u001b[0m, in \u001b[0;36m_AxesBase.set_xbound\u001b[0;34m(self, lower, upper)\u001b[0m\n\u001b[1;32m   3561\u001b[0m \u001b[38;5;28;01mif\u001b[39;00m upper \u001b[38;5;129;01mis\u001b[39;00m \u001b[38;5;28;01mNone\u001b[39;00m:\n\u001b[1;32m   3562\u001b[0m     upper \u001b[38;5;241m=\u001b[39m old_upper\n\u001b[0;32m-> 3564\u001b[0m \u001b[38;5;28;43mself\u001b[39;49m\u001b[38;5;241;43m.\u001b[39;49m\u001b[43mset_xlim\u001b[49m\u001b[43m(\u001b[49m\u001b[38;5;28;43msorted\u001b[39;49m\u001b[43m(\u001b[49m\u001b[43m(\u001b[49m\u001b[43mlower\u001b[49m\u001b[43m,\u001b[49m\u001b[43m \u001b[49m\u001b[43mupper\u001b[49m\u001b[43m)\u001b[49m\u001b[43m,\u001b[49m\n\u001b[1;32m   3565\u001b[0m \u001b[43m                     \u001b[49m\u001b[43mreverse\u001b[49m\u001b[38;5;241;43m=\u001b[39;49m\u001b[38;5;28;43mbool\u001b[39;49m\u001b[43m(\u001b[49m\u001b[38;5;28;43mself\u001b[39;49m\u001b[38;5;241;43m.\u001b[39;49m\u001b[43mxaxis_inverted\u001b[49m\u001b[43m(\u001b[49m\u001b[43m)\u001b[49m\u001b[43m)\u001b[49m\u001b[43m)\u001b[49m\u001b[43m,\u001b[49m\n\u001b[1;32m   3566\u001b[0m \u001b[43m              \u001b[49m\u001b[43mauto\u001b[49m\u001b[38;5;241;43m=\u001b[39;49m\u001b[38;5;28;43;01mNone\u001b[39;49;00m\u001b[43m)\u001b[49m\n",
      "File \u001b[0;32m~/miniconda3/envs/jupyter/lib/python3.8/site-packages/matplotlib/axes/_base.py:3734\u001b[0m, in \u001b[0;36m_AxesBase.set_xlim\u001b[0;34m(self, left, right, emit, auto, xmin, xmax)\u001b[0m\n\u001b[1;32m   3731\u001b[0m     \u001b[38;5;28mself\u001b[39m\u001b[38;5;241m.\u001b[39m_autoscaleXon \u001b[38;5;241m=\u001b[39m \u001b[38;5;28mbool\u001b[39m(auto)\n\u001b[1;32m   3733\u001b[0m \u001b[38;5;28;01mif\u001b[39;00m emit:\n\u001b[0;32m-> 3734\u001b[0m     \u001b[38;5;28;43mself\u001b[39;49m\u001b[38;5;241;43m.\u001b[39;49m\u001b[43mcallbacks\u001b[49m\u001b[38;5;241;43m.\u001b[39;49m\u001b[43mprocess\u001b[49m\u001b[43m(\u001b[49m\u001b[38;5;124;43m'\u001b[39;49m\u001b[38;5;124;43mxlim_changed\u001b[39;49m\u001b[38;5;124;43m'\u001b[39;49m\u001b[43m,\u001b[49m\u001b[43m \u001b[49m\u001b[38;5;28;43mself\u001b[39;49m\u001b[43m)\u001b[49m\n\u001b[1;32m   3735\u001b[0m     \u001b[38;5;66;03m# Call all of the other x-axes that are shared with this one\u001b[39;00m\n\u001b[1;32m   3736\u001b[0m     \u001b[38;5;28;01mfor\u001b[39;00m other \u001b[38;5;129;01min\u001b[39;00m \u001b[38;5;28mself\u001b[39m\u001b[38;5;241m.\u001b[39m_shared_axes[\u001b[38;5;124m\"\u001b[39m\u001b[38;5;124mx\u001b[39m\u001b[38;5;124m\"\u001b[39m]\u001b[38;5;241m.\u001b[39mget_siblings(\u001b[38;5;28mself\u001b[39m):\n",
      "File \u001b[0;32m~/miniconda3/envs/jupyter/lib/python3.8/site-packages/matplotlib/cbook/__init__.py:292\u001b[0m, in \u001b[0;36mCallbackRegistry.process\u001b[0;34m(self, s, *args, **kwargs)\u001b[0m\n\u001b[1;32m    290\u001b[0m \u001b[38;5;28;01mexcept\u001b[39;00m \u001b[38;5;167;01mException\u001b[39;00m \u001b[38;5;28;01mas\u001b[39;00m exc:\n\u001b[1;32m    291\u001b[0m     \u001b[38;5;28;01mif\u001b[39;00m \u001b[38;5;28mself\u001b[39m\u001b[38;5;241m.\u001b[39mexception_handler \u001b[38;5;129;01mis\u001b[39;00m \u001b[38;5;129;01mnot\u001b[39;00m \u001b[38;5;28;01mNone\u001b[39;00m:\n\u001b[0;32m--> 292\u001b[0m         \u001b[38;5;28;43mself\u001b[39;49m\u001b[38;5;241;43m.\u001b[39;49m\u001b[43mexception_handler\u001b[49m\u001b[43m(\u001b[49m\u001b[43mexc\u001b[49m\u001b[43m)\u001b[49m\n\u001b[1;32m    293\u001b[0m     \u001b[38;5;28;01melse\u001b[39;00m:\n\u001b[1;32m    294\u001b[0m         \u001b[38;5;28;01mraise\u001b[39;00m\n",
      "File \u001b[0;32m~/miniconda3/envs/jupyter/lib/python3.8/site-packages/matplotlib/cbook/__init__.py:96\u001b[0m, in \u001b[0;36m_exception_printer\u001b[0;34m(exc)\u001b[0m\n\u001b[1;32m     94\u001b[0m \u001b[38;5;28;01mdef\u001b[39;00m \u001b[38;5;21m_exception_printer\u001b[39m(exc):\n\u001b[1;32m     95\u001b[0m     \u001b[38;5;28;01mif\u001b[39;00m _get_running_interactive_framework() \u001b[38;5;129;01min\u001b[39;00m [\u001b[38;5;124m\"\u001b[39m\u001b[38;5;124mheadless\u001b[39m\u001b[38;5;124m\"\u001b[39m, \u001b[38;5;28;01mNone\u001b[39;00m]:\n\u001b[0;32m---> 96\u001b[0m         \u001b[38;5;28;01mraise\u001b[39;00m exc\n\u001b[1;32m     97\u001b[0m     \u001b[38;5;28;01melse\u001b[39;00m:\n\u001b[1;32m     98\u001b[0m         traceback\u001b[38;5;241m.\u001b[39mprint_exc()\n",
      "File \u001b[0;32m~/miniconda3/envs/jupyter/lib/python3.8/site-packages/matplotlib/cbook/__init__.py:287\u001b[0m, in \u001b[0;36mCallbackRegistry.process\u001b[0;34m(self, s, *args, **kwargs)\u001b[0m\n\u001b[1;32m    285\u001b[0m \u001b[38;5;28;01mif\u001b[39;00m func \u001b[38;5;129;01mis\u001b[39;00m \u001b[38;5;129;01mnot\u001b[39;00m \u001b[38;5;28;01mNone\u001b[39;00m:\n\u001b[1;32m    286\u001b[0m     \u001b[38;5;28;01mtry\u001b[39;00m:\n\u001b[0;32m--> 287\u001b[0m         \u001b[43mfunc\u001b[49m\u001b[43m(\u001b[49m\u001b[38;5;241;43m*\u001b[39;49m\u001b[43margs\u001b[49m\u001b[43m,\u001b[49m\u001b[43m \u001b[49m\u001b[38;5;241;43m*\u001b[39;49m\u001b[38;5;241;43m*\u001b[39;49m\u001b[43mkwargs\u001b[49m\u001b[43m)\u001b[49m\n\u001b[1;32m    288\u001b[0m     \u001b[38;5;66;03m# this does not capture KeyboardInterrupt, SystemExit,\u001b[39;00m\n\u001b[1;32m    289\u001b[0m     \u001b[38;5;66;03m# and GeneratorExit\u001b[39;00m\n\u001b[1;32m    290\u001b[0m     \u001b[38;5;28;01mexcept\u001b[39;00m \u001b[38;5;167;01mException\u001b[39;00m \u001b[38;5;28;01mas\u001b[39;00m exc:\n",
      "File \u001b[0;32m~/miniconda3/envs/jupyter/lib/python3.8/site-packages/cartopy/mpl/geoaxes.py:2062\u001b[0m, in \u001b[0;36m_trigger_patch_reclip\u001b[0;34m(event)\u001b[0m\n\u001b[1;32m   2060\u001b[0m axes \u001b[38;5;241m=\u001b[39m event\u001b[38;5;241m.\u001b[39maxes\n\u001b[1;32m   2061\u001b[0m \u001b[38;5;66;03m# trigger the outline and background patches to be re-clipped\u001b[39;00m\n\u001b[0;32m-> 2062\u001b[0m \u001b[43maxes\u001b[49m\u001b[38;5;241;43m.\u001b[39;49m\u001b[43mspines\u001b[49m[\u001b[38;5;124m'\u001b[39m\u001b[38;5;124mgeo\u001b[39m\u001b[38;5;124m'\u001b[39m]\u001b[38;5;241m.\u001b[39mstale \u001b[38;5;241m=\u001b[39m \u001b[38;5;28;01mTrue\u001b[39;00m\n\u001b[1;32m   2063\u001b[0m axes\u001b[38;5;241m.\u001b[39mpatch\u001b[38;5;241m.\u001b[39mstale \u001b[38;5;241m=\u001b[39m \u001b[38;5;28;01mTrue\u001b[39;00m\n",
      "\u001b[0;31mAttributeError\u001b[0m: 'NoneType' object has no attribute 'spines'"
     ]
    },
    {
     "data": {
      "image/png": "[encoded data removed]",
      "text/plain": [
       "<Figure size 432x288 with 1 Axes>"
      ]
     },
     "metadata": {
      "needs_background": "light"
     },
     "output_type": "display_data"
    },
    {
     "data": {
      "image/png": "[encoded data removed]",
      "text/plain": [
       "<Figure size 864x720 with 1 Axes>"
      ]
     },
     "metadata": {
      "needs_background": "light"
     },
     "output_type": "display_data"
    },
    {
     "data": {
      "image/png": "[encoded data removed]",
      "text/plain": [
       "<Figure size 864x720 with 1 Axes>"
      ]
     },
     "metadata": {
      "needs_background": "light"
     },
     "output_type": "display_data"
    }
   ],
   "source": [
    "figAout=plt.subplot(1,1,1)\n",
    "figAout = plt.figure(figsize=(12,10))\n",
    "\n",
    "ax = plt.axes(projection=ccrs.PlateCarree())\n",
    "pcolor=ax.pcolormesh(lon,lat,vit_mask,transform=ccrs.PlateCarree(),cmap=cmocean.cm.balance,vmin=-1,vmax=1)\n",
    "\n",
    "figSep=plt.subplot(1,2,2)\n",
    "figSep=plt.figure(figsize=(12,10))\n",
    "\n",
    "ax1 = plt.axes(projection=ccrs.PlateCarree())\n",
    "pcolor1=ax.pcolormesh(lon1,lat1,vit_mask1,transform=ccrs.PlateCarree(),cmap=cmocean.cm.balance,vmin=-1,vmax=1)\n",
    "\n",
    "grid_lines = ax.gridlines(draw_labels=True)\n",
    "grid_lines.xformatter = LONGITUDE_FORMATTER\n",
    "grid_lines.yformatter = LATITUDE_FORMATTER\n",
    "grid_lines.xlocator = mticker.FixedLocator(np.arange(-90,10,20))\n",
    "grid_lines.ylocator = mticker.FixedLocator(np.arange(0,70,10))\n",
    "grid_lines.ylabels_right = False\n",
    "grid_lines.xlabels_top = False\n",
    "\n",
    "\n",
    "ax.add_feature(cfeature.COASTLINE)\n",
    "\n",
    "\n",
    "cbar = plt.colorbar(pcolor,orientation='vertical',shrink=0.25,label='m')\n",
    "\n",
    "plt.title('Moyenne des vitesses de Ubottom pour le mois de août 2009')\n",
    "plt.savefig('Moy_v_Ubottom_08_2009.png', bbbox_inches='tight')\n"
   ]
  },
  {
   "cell_type": "code",
   "execution_count": null,
   "id": "1d3eeba8",
   "metadata": {},
   "outputs": [],
   "source": [
    "fig1 = plt.figure(figsize=(30, 10), dpi=150)\n",
    "fig1.patch.set_alpha(1)\n",
    "#fig.add_subplot(ROW,COLUMN,POSITION)\n",
    "ax0 = plt.subplot(131, projection=ccrs.Mercator())\n",
    "ax1 = plt.subplot(132, projection=ccrs.Mercator())\n",
    "ax2 = plt.subplot(133, projection=ccrs.Mercator())\n",
    "ax3 = plt.subplot(231, projection=ccrs.Mercator())\n",
    "ax4 = plt.subplot(232, projection=ccrs.Mercator())\n",
    "ax5 = plt.subplot(233, projection=ccrs.Mercator())\n",
    "\n",
    "f0 = ax0.pcolormesh(longs_CD, lats_CD, np.ma.masked_invalid(TCD), \n",
    "                    shading='auto', transform = ccrs.PlateCarree(),\n",
    "                    vmin=1, vmax=200, cmap=plt.cm.rainbow, norm=colors.LogNorm(vmin=1, vmax=200))\n",
    "    \n",
    "f1 = ax1.pcolormesh(longs_ND, lats_ND, np.ma.masked_invalid(TND), \n",
    "                    shading='auto', transform = ccrs.PlateCarree(),\n",
    "                    vmin=1, vmax=200, cmap=plt.cm.rainbow, norm=colors.LogNorm(vmin=1, vmax=200))\n",
    "\n",
    "f2 = ax2.pcolormesh(longs_ED, lats_ED, np.ma.masked_invalid(TED), \n",
    "                    shading='auto', transform = ccrs.PlateCarree(),\n",
    "                    vmin=1, vmax=200, cmap=plt.cm.rainbow, norm=colors.LogNorm(vmin=1, vmax=200))\n",
    "\n",
    "f3 = ax3.pcolormesh(longs_CK, lats_CK, np.ma.masked_invalid(TCK), \n",
    "                    shading='auto', transform = ccrs.PlateCarree(),\n",
    "                    vmin=1, vmax=200, cmap=plt.cm.rainbow, norm=colors.LogNorm(vmin=1, vmax=200))\n",
    "\n",
    "f4 = ax4.pcolormesh(longs_NK, lats_NK, np.ma.masked_invalid(TNK), \n",
    "                    shading='auto', transform = ccrs.PlateCarree(),\n",
    "                    vmin=1, vmax=200, cmap=plt.cm.rainbow, norm=colors.LogNorm(vmin=1, vmax=200))\n",
    "\n",
    "f5 = ax5.pcolormesh(longs_EK, lats_EK, np.ma.masked_invalid(TEK), \n",
    "                    shading='auto', transform = ccrs.PlateCarree(),\n",
    "                    vmin=1, vmax=200, cmap=plt.cm.rainbow, norm=colors.LogNorm(vmin=1, vmax=200))\n",
    "\n",
    "g1 = ax0.gridlines(draw_labels = True)\n",
    "g1.ylabels_right = None\n",
    "g1.xlabels_bottom = None\n",
    "g1.xlabel_style = {'size': 20, 'color': 'k'}\n",
    "g1.ylabel_style = {'size': 20, 'color': 'k'}\n",
    "\n",
    "g1 = ax1.gridlines(draw_labels = True)\n",
    "g1.ylabels_left = None\n",
    "g1.xlabels_bottom = None\n",
    "g1.xlabel_style = {'size': 20, 'color': 'k'}\n",
    "g1.ylabel_style = {'size': 20, 'color': 'k'}\n",
    "\n",
    "g1 = ax2.gridlines(draw_labels = True)\n",
    "g1.ylabels_left = None\n",
    "g1.xlabels_bottom = None\n",
    "g1.xlabel_style = {'size': 20, 'color': 'k'}\n",
    "g1.ylabel_style = {'size': 20, 'color': 'k'}\n",
    "\n",
    "g1 = ax3.gridlines(draw_labels = True)\n",
    "g1.ylabels_left = None\n",
    "g1.xlabels_bottom = None\n",
    "g1.xlabel_style = {'size': 20, 'color': 'k'}\n",
    "g1.ylabel_style = {'size': 20, 'color': 'k'}\n",
    "\n",
    "g1 = ax4.gridlines(draw_labels = True)\n",
    "g1.ylabels_left = None\n",
    "g1.xlabels_bottom = None\n",
    "g1.xlabel_style = {'size': 20, 'color': 'k'}\n",
    "g1.ylabel_style = {'size': 20, 'color': 'k'}\n",
    "\n",
    "g1 = ax5.gridlines(draw_labels = True)\n",
    "g1.ylabels_left = None\n",
    "g1.xlabels_bottom = None\n",
    "g1.xlabel_style = {'size': 20, 'color': 'k'}\n",
    "g1.ylabel_style = {'size': 20, 'color': 'k'}\n",
    "\n",
    "cb1 = fig1.colorbar(f1, orientation=\"horizontal\", fraction=0.05, pad=0.07)\n",
    "cb1.set_label('mean Turbidity [FNU]', fontsize=18)\n",
    "cb1.tick_params(labelsize=20)\n",
    " \n",
    "plt.show()\n",
    "plt.clf()"
   ]
  }
 ],
 "metadata": {
  "kernelspec": {
   "display_name": "Python 3 (ipykernel)",
   "language": "python",
   "name": "python3"
  },
  "language_info": {
   "codemirror_mode": {
    "name": "ipython",
    "version": 3
   },
   "file_extension": ".py",
   "mimetype": "text/x-python",
   "name": "python",
   "nbconvert_exporter": "python",
   "pygments_lexer": "ipython3",
   "version": "3.8.13"
  }
 },
 "nbformat": 4,
 "nbformat_minor": 5
}
