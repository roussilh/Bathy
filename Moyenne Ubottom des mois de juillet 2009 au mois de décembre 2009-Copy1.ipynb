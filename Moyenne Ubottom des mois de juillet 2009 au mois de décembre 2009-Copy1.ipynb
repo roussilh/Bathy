{
 "cells": [
  {
   "cell_type": "code",
   "execution_count": 1,
   "id": "7763b956",
   "metadata": {},
   "outputs": [],
   "source": [
    "import xarray as xr\n",
    "from matplotlib import pyplot as plt\n",
    "import matplotlib.cm as cm\n",
    "import matplotlib.ticker as mticker\n",
    "import cartopy.crs as ccrs\n",
    "import cartopy.feature as cfeature\n",
    "from cartopy.mpl.gridliner import LONGITUDE_FORMATTER, LATITUDE_FORMATTER\n",
    "import numpy.ma as ma\n",
    "import numpy as np\n",
    "import cmocean\n",
    "\n",
    "%matplotlib inline"
   ]
  },
  {
   "cell_type": "code",
   "execution_count": 2,
   "id": "c0b16258",
   "metadata": {},
   "outputs": [],
   "source": [
    "def open_data(mois): \n",
    "    if mois < 10: \n",
    "        m='0'+str(mois)\n",
    "    else: \n",
    "        m = str(mois)\n",
    "    multi_dataDIR = '/bettik/roussilh/noMED-degrad/eNATL60noMED-BLBT02_y2009m'+m+'*U*.nc'\n",
    "    TAS1 = xr.open_mfdataset(multi_dataDIR)\n",
    "    umean = TAS1.degraded_vozocrtx.mean(dim='time_counter')\n",
    "    return umean"
   ]
  },
  {
   "cell_type": "code",
   "execution_count": 8,
   "id": "ab2c5932",
   "metadata": {},
   "outputs": [],
   "source": [
    "vit0 = open_data(7)\n",
    "vit1 = open_data(8)\n",
    "vit2 = open_data(9)\n",
    "vit3 = open_data(10)\n",
    "vit4 = open_data(11)\n",
    "vit5 = open_data(12)"
   ]
  },
  {
   "cell_type": "code",
   "execution_count": 5,
   "id": "7f7a63ea",
   "metadata": {},
   "outputs": [],
   "source": [
    "multi_dataDIR = '/bettik/roussilh/noMED-degrad/eNATL60noMED-BLBT02_y2009m07d01.1h_Ubottomdegrad.nc'\n",
    "TAS1 = xr.open_dataset(multi_dataDIR)\n",
    "navlon = TAS1.nav_lon\n",
    "navlat = TAS1.nav_lat\n",
    "lat0 = navlat[0]\n",
    "lon0 = navlon[0]"
   ]
  },
  {
   "cell_type": "code",
   "execution_count": 7,
   "id": "1d283bc1",
   "metadata": {},
   "outputs": [
    {
     "data": {
      "text/plain": [
       "(1181, 1480)"
      ]
     },
     "execution_count": 7,
     "metadata": {},
     "output_type": "execute_result"
    }
   ],
   "source": [
    "navlat.shape"
   ]
  },
  {
   "cell_type": "code",
   "execution_count": null,
   "id": "b7b9f249",
   "metadata": {},
   "outputs": [],
   "source": []
  },
  {
   "cell_type": "code",
   "execution_count": 16,
   "id": "4eb9dd4d",
   "metadata": {},
   "outputs": [],
   "source": [
    "month_name={7:'juillet', 8:'aout',9:'septembre', 10:'octobre', 11:'novembre',12:'decembre'}\n",
    "def plot_velocity(var,mois,ax):\n",
    "    f0 = ax.pcolormesh(navlon, navlat, var, \n",
    "                    shading='auto', transform = ccrs.PlateCarree(),\n",
    "                    vmin=-1, vmax=1, cmap=cmocean.cm.balance)\n",
    "    grid_lines = ax.gridlines(draw_labels = True)\n",
    "    grid_lines.xformatter = LONGITUDE_FORMATTER\n",
    "    grid_lines.yformatter = LATITUDE_FORMATTER\n",
    "    grid_lines.xlocator = mticker.FixedLocator(np.arange(-90,10,20))\n",
    "    grid_lines.ylocator = mticker.FixedLocator(np.arange(0,70,10))\n",
    "    grid_lines.ylabels_right = False\n",
    "    grid_lines.xlabels_top = False\n",
    "    ax.set_title(month_name[mois])\n",
    "    ax.add_feature(cfeature.COASTLINE)\n",
    "    return f0\n"
   ]
  },
  {
   "cell_type": "code",
   "execution_count": null,
   "id": "1f17ec61",
   "metadata": {},
   "outputs": [],
   "source": [
    "fig1 = plt.figure(figsize=(30, 15), dpi=150)\n",
    "\n",
    "ax0 = plt.subplot(231, projection=ccrs.PlateCarree())\n",
    "f0= plot_velocity(vit0,7,ax0)\n",
    "ax1 = plt.subplot(232, projection=ccrs.PlateCarree())\n",
    "f1= plot_velocity(vit1,8,ax1)\n",
    "ax2 = plt.subplot(233, projection=ccrs.PlateCarree())\n",
    "f2= plot_velocity(vit2,9,ax2)\n",
    "ax3 = plt.subplot(234, projection=ccrs.PlateCarree())\n",
    "f3= plot_velocity(vit3,10,ax3)\n",
    "ax4 = plt.subplot(235, projection=ccrs.PlateCarree())\n",
    "f4= plot_velocity(vit4,11,ax4)\n",
    "ax5 = plt.subplot(236, projection=ccrs.PlateCarree())\n",
    "f5= plot_velocity(vit5,12,ax5)\n",
    "\n",
    "cbar_ax= fig1.add_axes([0.15,0.5,0.8,0.1])\n",
    "cbar = plt.colorbar(f0, orientation='horizontal', cax = cbar_ax,label='m')\n",
    "\n",
    "\n",
    "plt.suptitle('Moyenne mensuelle des vitesses de Ubottom ')\n",
    "plt.savefig('Moy_v_Ubottom_2009.png', bbbox_inches='tight')\n"
   ]
  },
  {
   "cell_type": "code",
   "execution_count": null,
   "id": "5207ba2c",
   "metadata": {},
   "outputs": [],
   "source": []
  }
 ],
 "metadata": {
  "kernelspec": {
   "display_name": "Python 3 (ipykernel)",
   "language": "python",
   "name": "python3"
  },
  "language_info": {
   "codemirror_mode": {
    "name": "ipython",
    "version": 3
   },
   "file_extension": ".py",
   "mimetype": "text/x-python",
   "name": "python",
   "nbconvert_exporter": "python",
   "pygments_lexer": "ipython3",
   "version": "3.8.13"
  }
 },
 "nbformat": 4,
 "nbformat_minor": 5
}
